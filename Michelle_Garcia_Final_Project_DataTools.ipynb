{
 "cells": [
  {
   "cell_type": "markdown",
   "id": "05d8e6ef",
   "metadata": {},
   "source": [
    "# Final Project\n",
    "## Data Visualization"
   ]
  },
  {
   "cell_type": "code",
   "execution_count": 1,
   "id": "fe0aaacc",
   "metadata": {},
   "outputs": [],
   "source": [
    "import pandas as pd\n",
    "import numpy as np\n",
    "import matplotlib.pyplot as plt\n",
    "import seaborn as sns\n",
    "%matplotlib inline"
   ]
  },
  {
   "cell_type": "code",
   "execution_count": 2,
   "id": "f091cebc",
   "metadata": {},
   "outputs": [],
   "source": [
    "figsize = (16,8)"
   ]
  },
  {
   "cell_type": "markdown",
   "id": "cba7da31",
   "metadata": {},
   "source": [
    "### Rubric: Proper tagging of Github repository for final report as per deadlines (0.5 = 0.25 + 0.25 points)\n"
   ]
  },
  {
   "cell_type": "markdown",
   "id": "f9ae7600",
   "metadata": {},
   "source": [
    "gitHub repository: michellemarshgarcia/DataToolsFinal"
   ]
  },
  {
   "cell_type": "markdown",
   "id": "d681090d",
   "metadata": {},
   "source": [
    "### Rubric: Dataset and motivation slide (1 points)\n",
    "How/why the dataset was collected and a description of the metadata of your dataset."
   ]
  },
  {
   "cell_type": "markdown",
   "id": "60589231",
   "metadata": {},
   "source": [
    "This data set includes information on all stops made by the Colorado State police. It comes from Stanford University's open policing project. The data is available at https://openpolicing.stanford.edu/data/. I wanted to use data from the City and County of Denver but they do not keep data on the race or gender of those being stopped which is the basis of my analysis. \n",
    "\n",
    "In the United States there are more than 50,000 traffic stops on a typical day. The potential number of data points for each stop is huge, from the demographics (age, race, gender) of the driver, to the location, time of day, stop reason, stop outcome, car model, and much more. Unfortunately, not every state makes this data available, and those that do often have different standards for which information is reported. Different counties and districts within each state can also be inconstant in how each traffic stop is recorded. The research team at Stanford has managed to gather traffic-stop data from twenty states, and has worked to regularize the reporting standards for 11 fields. In Colorado the police stop data sets that have at least 8 of the 11 variables are only available from the Colorado State Police and the City of Aurora.\n"
   ]
  },
  {
   "cell_type": "code",
   "execution_count": 3,
   "id": "ce0344e3",
   "metadata": {},
   "outputs": [],
   "source": [
    "df_co = pd.read_csv('co_statewide_2020_04_01.csv', low_memory=False)"
   ]
  },
  {
   "cell_type": "markdown",
   "id": "64c93a37",
   "metadata": {},
   "source": [
    "### Rubric:Actual task definition/research question (2 points)\n",
    "What real-world problem are you trying to solve? What are the input and output of your analysis?"
   ]
  },
  {
   "cell_type": "markdown",
   "id": "c5fc6edd",
   "metadata": {},
   "source": [
    "Over the last year there has been increasing attention paid to the long-standing disparitites in outcomes between police and different demographic communities. This analysis will look at citations_per_warning, the ratio of citations to warnings. A higher number signifies a greater likelihood of being ticketed instead of getting off with a warning. We will also look at \n",
    "arrest_rate - The percentage of stops that end in an arrest. these will be the outputs, the input will be the relevant categories of data collected at traffic stops by the Colorado State Patrol.\n",
    "\n",
    "We are exploring and analyzing the data to observe trends not determine fault or make inferences about why these disparities exsist. This project does not attempt to remedy any observed differences or make recommendations for action. There are stark differences in the number of of Coloradans who identify as women and men in terms of rates of initial stop and arrest rates. There are many ways to interpret these disparities but we will not make any attempt here. "
   ]
  },
  {
   "cell_type": "markdown",
   "id": "eda6069f",
   "metadata": {},
   "source": [
    "### Rubric: Literature review (2 points)\n",
    "What other work has been done in this area, and how is your work novel compared to others?"
   ]
  },
  {
   "cell_type": "markdown",
   "id": "6ade746d",
   "metadata": {},
   "source": [
    "Currently, a comprehensive, national repository detailing interactions between police and the public doesn’t exist. The Stanford Open Policing Project, is an interdisciplinary team of researchers and journalists at Stanford University that collects and standardizes data on vehicle and pedestrian stops from law enforcement departments across the country — all information is freely available, public, and sourced from relevant government entities. They have already gathered over 200 million records from dozens of state and local police departments across the country.\n",
    "\n",
    "The Center for Policing Equity measures bias in policing. One in five Americans interacts with law enforcement yearly. Of those encounters, one million result in use of force. And if you’re Black, you are two to four times more likely to have force used than if you are White. They work directly with police to measure behaviors and revise policies results in fewer people killed and fewer people in jail.\n",
    "\n",
    "RTI International's Center for Policing Research and Investigative Sciences hosted their sixth policing symposium virtually on February 11, 2021, and this year's theme is Data Driven Reform in Policing. The intended audience included law enforcement, first responders, policy makers, other criminal justice and public health professionals, and researchers. The symposium focused on how law enforcement agencies can leverage data to inform various reform efforts within their organization including alternative models for crisis response, use of force, community engagement, and hiring and recruitment practices.\n",
    "\n",
    "My work is novel in that it looks at the Colorado context of a national debate."
   ]
  },
  {
   "cell_type": "markdown",
   "id": "e2c66c67",
   "metadata": {},
   "source": [
    "# Data Exploration"
   ]
  },
  {
   "cell_type": "markdown",
   "id": "29f75845",
   "metadata": {},
   "source": [
    "This provides a quick look at the data so we can familiarize ourself with the look of the data and ensure that we've loaded it correctly."
   ]
  },
  {
   "cell_type": "code",
   "execution_count": 4,
   "id": "99af22b5",
   "metadata": {},
   "outputs": [
    {
     "data": {
      "text/html": [
       "<div>\n",
       "<style scoped>\n",
       "    .dataframe tbody tr th:only-of-type {\n",
       "        vertical-align: middle;\n",
       "    }\n",
       "\n",
       "    .dataframe tbody tr th {\n",
       "        vertical-align: top;\n",
       "    }\n",
       "\n",
       "    .dataframe thead th {\n",
       "        text-align: right;\n",
       "    }\n",
       "</style>\n",
       "<table border=\"1\" class=\"dataframe\">\n",
       "  <thead>\n",
       "    <tr style=\"text-align: right;\">\n",
       "      <th></th>\n",
       "      <th>raw_row_number</th>\n",
       "      <th>date</th>\n",
       "      <th>time</th>\n",
       "      <th>location</th>\n",
       "      <th>county_name</th>\n",
       "      <th>subject_age</th>\n",
       "      <th>subject_race</th>\n",
       "      <th>subject_sex</th>\n",
       "      <th>officer_id_hash</th>\n",
       "      <th>officer_sex</th>\n",
       "      <th>type</th>\n",
       "      <th>violation</th>\n",
       "      <th>arrest_made</th>\n",
       "      <th>citation_issued</th>\n",
       "      <th>warning_issued</th>\n",
       "      <th>outcome</th>\n",
       "      <th>contraband_found</th>\n",
       "      <th>search_conducted</th>\n",
       "      <th>search_basis</th>\n",
       "      <th>raw_Ethnicity</th>\n",
       "    </tr>\n",
       "  </thead>\n",
       "  <tbody>\n",
       "    <tr>\n",
       "      <th>0</th>\n",
       "      <td>1947986|1947987</td>\n",
       "      <td>2013-06-19</td>\n",
       "      <td>NaN</td>\n",
       "      <td>19, I70, 8</td>\n",
       "      <td>Mesa County</td>\n",
       "      <td>26.0</td>\n",
       "      <td>hispanic</td>\n",
       "      <td>male</td>\n",
       "      <td>b942632983</td>\n",
       "      <td>male</td>\n",
       "      <td>vehicular</td>\n",
       "      <td>Driver's Vision Obstructed Through Required Gl...</td>\n",
       "      <td>False</td>\n",
       "      <td>True</td>\n",
       "      <td>False</td>\n",
       "      <td>citation</td>\n",
       "      <td>NaN</td>\n",
       "      <td>False</td>\n",
       "      <td>NaN</td>\n",
       "      <td>H</td>\n",
       "    </tr>\n",
       "    <tr>\n",
       "      <th>1</th>\n",
       "      <td>1537576</td>\n",
       "      <td>2012-08-24</td>\n",
       "      <td>NaN</td>\n",
       "      <td>254, H285, 11</td>\n",
       "      <td>Jefferson County</td>\n",
       "      <td>NaN</td>\n",
       "      <td>NaN</td>\n",
       "      <td>NaN</td>\n",
       "      <td>f3d4f46927</td>\n",
       "      <td>NaN</td>\n",
       "      <td>vehicular</td>\n",
       "      <td>NaN</td>\n",
       "      <td>False</td>\n",
       "      <td>False</td>\n",
       "      <td>False</td>\n",
       "      <td>NaN</td>\n",
       "      <td>NaN</td>\n",
       "      <td>False</td>\n",
       "      <td>NaN</td>\n",
       "      <td>NaN</td>\n",
       "    </tr>\n",
       "    <tr>\n",
       "      <th>2</th>\n",
       "      <td>1581594</td>\n",
       "      <td>2012-09-23</td>\n",
       "      <td>NaN</td>\n",
       "      <td>115, I76, 13</td>\n",
       "      <td>Logan County</td>\n",
       "      <td>52.0</td>\n",
       "      <td>white</td>\n",
       "      <td>male</td>\n",
       "      <td>6e49e2fbc8</td>\n",
       "      <td>male</td>\n",
       "      <td>vehicular</td>\n",
       "      <td>Speeding (10-19 MPH Over the Maximum 75 MPH Li...</td>\n",
       "      <td>False</td>\n",
       "      <td>False</td>\n",
       "      <td>True</td>\n",
       "      <td>warning</td>\n",
       "      <td>NaN</td>\n",
       "      <td>False</td>\n",
       "      <td>NaN</td>\n",
       "      <td>W</td>\n",
       "    </tr>\n",
       "    <tr>\n",
       "      <th>3</th>\n",
       "      <td>1009205</td>\n",
       "      <td>2011-08-25</td>\n",
       "      <td>NaN</td>\n",
       "      <td>197, H85, 47</td>\n",
       "      <td>Douglas County</td>\n",
       "      <td>32.0</td>\n",
       "      <td>white</td>\n",
       "      <td>female</td>\n",
       "      <td>eaea851669</td>\n",
       "      <td>NaN</td>\n",
       "      <td>vehicular</td>\n",
       "      <td>Speeding (10-19 MPH Over Prima Facie Limit *)</td>\n",
       "      <td>False</td>\n",
       "      <td>True</td>\n",
       "      <td>False</td>\n",
       "      <td>citation</td>\n",
       "      <td>NaN</td>\n",
       "      <td>False</td>\n",
       "      <td>NaN</td>\n",
       "      <td>W</td>\n",
       "    </tr>\n",
       "    <tr>\n",
       "      <th>4</th>\n",
       "      <td>1932619</td>\n",
       "      <td>2013-06-08</td>\n",
       "      <td>NaN</td>\n",
       "      <td>107, H287, 45</td>\n",
       "      <td>Kiowa County</td>\n",
       "      <td>33.0</td>\n",
       "      <td>hispanic</td>\n",
       "      <td>male</td>\n",
       "      <td>d18e34d749</td>\n",
       "      <td>male</td>\n",
       "      <td>vehicular</td>\n",
       "      <td>Failed to Drive in Single Lane (Weaving)</td>\n",
       "      <td>False</td>\n",
       "      <td>False</td>\n",
       "      <td>True</td>\n",
       "      <td>warning</td>\n",
       "      <td>NaN</td>\n",
       "      <td>False</td>\n",
       "      <td>NaN</td>\n",
       "      <td>H</td>\n",
       "    </tr>\n",
       "  </tbody>\n",
       "</table>\n",
       "</div>"
      ],
      "text/plain": [
       "    raw_row_number        date  time       location       county_name  \\\n",
       "0  1947986|1947987  2013-06-19   NaN     19, I70, 8       Mesa County   \n",
       "1          1537576  2012-08-24   NaN  254, H285, 11  Jefferson County   \n",
       "2          1581594  2012-09-23   NaN   115, I76, 13      Logan County   \n",
       "3          1009205  2011-08-25   NaN   197, H85, 47    Douglas County   \n",
       "4          1932619  2013-06-08   NaN  107, H287, 45      Kiowa County   \n",
       "\n",
       "   subject_age subject_race subject_sex officer_id_hash officer_sex  \\\n",
       "0         26.0     hispanic        male      b942632983        male   \n",
       "1          NaN          NaN         NaN      f3d4f46927         NaN   \n",
       "2         52.0        white        male      6e49e2fbc8        male   \n",
       "3         32.0        white      female      eaea851669         NaN   \n",
       "4         33.0     hispanic        male      d18e34d749        male   \n",
       "\n",
       "        type                                          violation arrest_made  \\\n",
       "0  vehicular  Driver's Vision Obstructed Through Required Gl...       False   \n",
       "1  vehicular                                                NaN       False   \n",
       "2  vehicular  Speeding (10-19 MPH Over the Maximum 75 MPH Li...       False   \n",
       "3  vehicular      Speeding (10-19 MPH Over Prima Facie Limit *)       False   \n",
       "4  vehicular           Failed to Drive in Single Lane (Weaving)       False   \n",
       "\n",
       "  citation_issued warning_issued   outcome contraband_found search_conducted  \\\n",
       "0            True          False  citation              NaN            False   \n",
       "1           False          False       NaN              NaN            False   \n",
       "2           False           True   warning              NaN            False   \n",
       "3            True          False  citation              NaN            False   \n",
       "4           False           True   warning              NaN            False   \n",
       "\n",
       "  search_basis raw_Ethnicity  \n",
       "0          NaN             H  \n",
       "1          NaN           NaN  \n",
       "2          NaN             W  \n",
       "3          NaN             W  \n",
       "4          NaN             H  "
      ]
     },
     "execution_count": 4,
     "metadata": {},
     "output_type": "execute_result"
    }
   ],
   "source": [
    "df_co.head()"
   ]
  },
  {
   "cell_type": "markdown",
   "id": "a081f27e",
   "metadata": {},
   "source": [
    "Here we take a look at all of the column labels in the data set."
   ]
  },
  {
   "cell_type": "code",
   "execution_count": 5,
   "id": "65d4d96b",
   "metadata": {},
   "outputs": [
    {
     "data": {
      "text/plain": [
       "Index(['raw_row_number', 'date', 'time', 'location', 'county_name',\n",
       "       'subject_age', 'subject_race', 'subject_sex', 'officer_id_hash',\n",
       "       'officer_sex', 'type', 'violation', 'arrest_made', 'citation_issued',\n",
       "       'warning_issued', 'outcome', 'contraband_found', 'search_conducted',\n",
       "       'search_basis', 'raw_Ethnicity'],\n",
       "      dtype='object')"
      ]
     },
     "execution_count": 5,
     "metadata": {},
     "output_type": "execute_result"
    }
   ],
   "source": [
    "df_co.columns"
   ]
  },
  {
   "cell_type": "markdown",
   "id": "53dba9fc",
   "metadata": {},
   "source": [
    "Now we will count the values in each of the columns before exploring the data further. "
   ]
  },
  {
   "cell_type": "code",
   "execution_count": 6,
   "id": "89866f3d",
   "metadata": {},
   "outputs": [
    {
     "data": {
      "text/plain": [
       "raw_row_number      3112853\n",
       "date                3112850\n",
       "time                      0\n",
       "location            3112822\n",
       "county_name         3112822\n",
       "subject_age         2254600\n",
       "subject_race        2711213\n",
       "subject_sex         2216327\n",
       "officer_id_hash     2584742\n",
       "officer_sex          989962\n",
       "type                3112853\n",
       "violation           2612701\n",
       "arrest_made         1684665\n",
       "citation_issued     1684665\n",
       "warning_issued      1684665\n",
       "outcome             1296459\n",
       "contraband_found       9956\n",
       "search_conducted    2881770\n",
       "search_basis           9759\n",
       "raw_Ethnicity       2733417\n",
       "dtype: int64"
      ]
     },
     "execution_count": 6,
     "metadata": {},
     "output_type": "execute_result"
    }
   ],
   "source": [
    "df_co.count()"
   ]
  },
  {
   "cell_type": "markdown",
   "id": "15f35e15",
   "metadata": {},
   "source": [
    "### Rubric: We can see that we can clean up the data by dropping the time column. \n",
    "\n",
    " Quality of cleaning (6 points, 2 points each) - Data cleaning and type conversion activity. Please share anything unusual you faced during this activity.\n",
    " - What did you do about missing values and why? Handling missing values properly is very important.\n",
    " - New feature/attribute creation and data summary statistics and interpretation."
   ]
  },
  {
   "cell_type": "markdown",
   "id": "9ea1f737",
   "metadata": {},
   "source": [
    "We can see that we can clean up the data by dropping the time column after applying the count function to the initial dataFrame. It was best to remove time because there were no values associated with it. By exploring the data and summary stats we can see what information is not relevant to our analysis. I used del to remove the entire column labled time and produced a new version of the DataFrame.  "
   ]
  },
  {
   "cell_type": "code",
   "execution_count": 7,
   "id": "245634f3",
   "metadata": {},
   "outputs": [
    {
     "data": {
      "text/plain": [
       "raw_row_number      3112853\n",
       "date                3112850\n",
       "location            3112822\n",
       "county_name         3112822\n",
       "subject_age         2254600\n",
       "subject_race        2711213\n",
       "subject_sex         2216327\n",
       "officer_id_hash     2584742\n",
       "officer_sex          989962\n",
       "type                3112853\n",
       "violation           2612701\n",
       "arrest_made         1684665\n",
       "citation_issued     1684665\n",
       "warning_issued      1684665\n",
       "outcome             1296459\n",
       "contraband_found       9956\n",
       "search_conducted    2881770\n",
       "search_basis           9759\n",
       "raw_Ethnicity       2733417\n",
       "dtype: int64"
      ]
     },
     "execution_count": 7,
     "metadata": {},
     "output_type": "execute_result"
    }
   ],
   "source": [
    "del df_co[\"time\"]\n",
    "df_co.count()"
   ]
  },
  {
   "cell_type": "markdown",
   "id": "deae0074",
   "metadata": {},
   "source": [
    "We look at the total numnber of stops by county. Note: Denver County is not included in the data set because they collect no identiying information about people who are stopped. El Paso County is home to Colorado's second largest metro area, Colorado Springs. The counties with the greatest number of stops are also the most populous. "
   ]
  },
  {
   "cell_type": "code",
   "execution_count": 8,
   "id": "5f8abac6",
   "metadata": {},
   "outputs": [
    {
     "data": {
      "text/plain": [
       "El Paso County      245593\n",
       "Jefferson County    240078\n",
       "Adams County        194119\n",
       "Weld County         156617\n",
       "Larimer County      152938\n",
       "                     ...  \n",
       "Phillips County       2226\n",
       "Custer County          902\n",
       "San Juan County        371\n",
       "Hinsdale County        193\n",
       "Academy County           2\n",
       "Name: county_name, Length: 65, dtype: int64"
      ]
     },
     "execution_count": 8,
     "metadata": {},
     "output_type": "execute_result"
    }
   ],
   "source": [
    "df_co['county_name'].value_counts()"
   ]
  },
  {
   "cell_type": "markdown",
   "id": "7e12ee03",
   "metadata": {},
   "source": [
    "The we look at the data by type of presumed violation. Speeding is the primary violation type. This data is from the Colorado State Patrol who is primarily responible for law enforcement on interestates, highways, byways, and rural routes. "
   ]
  },
  {
   "cell_type": "code",
   "execution_count": 9,
   "id": "15f7edbe",
   "metadata": {},
   "outputs": [
    {
     "data": {
      "text/plain": [
       "Speeding (10-19 MPH Over Prima Facie Limit)                                                                                                                                                                                                         245546\n",
       "Speeding (10-19 MPH Over Prima Facie Limit *)                                                                                                                                                                                                       230372\n",
       "Speeding (5-9 MPH Over Prima Facie Limit *)                                                                                                                                                                                                         142935\n",
       "Speeding (5-9 MPH Over Prima Facie Limit)                                                                                                                                                                                                           106969\n",
       "Speeding (10-19 MPH Over the Maximum 75 MPH Limit)                                                                                                                                                                                                   98411\n",
       "                                                                                                                                                                                                                                                     ...  \n",
       "Speeding (20-24 MPH Over the Maximum 75 MPH Limit)|CMV Commercial Vehicle Failed to Comply With D.P.S. Rules and Regulations Governing Safety Standards and Specifications                                                                               1\n",
       "Careless Driving|Drove Vehicle While Under the Influence of Alcohol or Drugs or Both|(Drank From/Possessed) an Open Alcoholic Beverage Container in a Motor Vehicle|Person 18 and Over Engaged in Text Messaging While Operating a Motor Vehicle         1\n",
       "Speeding (10-19 MPH Over Prima Facie Limit *)|Drove Vehicle When Safety Belt Not in Use|Operated an Uninsured Motor Vehicle on a Public Roadway|Drove Vehicle Without Valid Driver's License                                                             1\n",
       "Speeding (25 MPH or more Over Prima Facie Limit*)|Drove Vehicle While Under the Influence of Alcohol or Drugs or Both|Drove Vehicle When Safety Belt Not in Use                                                                                          1\n",
       "Careless Driving|Operated an Uninsured Motor Vehicle on a Public Roadway|Drove (Motor/Off-highway) Vehicle When License Under Restraint (Denied)|[60 or more days]Displayed Expired Number Plates|NA                                                     1\n",
       "Name: violation, Length: 124351, dtype: int64"
      ]
     },
     "execution_count": 9,
     "metadata": {},
     "output_type": "execute_result"
    }
   ],
   "source": [
    "df_co['violation'].value_counts()"
   ]
  },
  {
   "cell_type": "markdown",
   "id": "2a226bbe",
   "metadata": {},
   "source": [
    "Here we look at the data by type of outcome of the police interaction with the community member. There are three possible outcomes, including warning, citation, or arrest. The data indicates that it is far more likely that people who are stopped are most likely to issued a warning."
   ]
  },
  {
   "cell_type": "code",
   "execution_count": 10,
   "id": "c349e3a6",
   "metadata": {},
   "outputs": [
    {
     "data": {
      "text/plain": [
       "warning     798954\n",
       "citation    491137\n",
       "arrest        6368\n",
       "Name: outcome, dtype: int64"
      ]
     },
     "execution_count": 10,
     "metadata": {},
     "output_type": "execute_result"
    }
   ],
   "source": [
    "df_co['outcome'].value_counts()"
   ]
  },
  {
   "cell_type": "markdown",
   "id": "02620897",
   "metadata": {},
   "source": [
    "The data on whether or not a search of the subject results from the police contact indicates that a stop resulting in a search is far more infrequent than a stop not resulting in a search of the subject. "
   ]
  },
  {
   "cell_type": "code",
   "execution_count": 11,
   "id": "adc9051d",
   "metadata": {},
   "outputs": [
    {
     "data": {
      "text/plain": [
       "False    2871814\n",
       "True        9956\n",
       "Name: search_conducted, dtype: int64"
      ]
     },
     "execution_count": 11,
     "metadata": {},
     "output_type": "execute_result"
    }
   ],
   "source": [
    "df_co['search_conducted'].value_counts()"
   ]
  },
  {
   "cell_type": "markdown",
   "id": "434991e8",
   "metadata": {},
   "source": [
    "As we look by demographic categories we see that men are stopped at twice the rate of women."
   ]
  },
  {
   "cell_type": "code",
   "execution_count": 12,
   "id": "545158e6",
   "metadata": {},
   "outputs": [
    {
     "data": {
      "text/plain": [
       "male      1527440\n",
       "female     688887\n",
       "Name: subject_sex, dtype: int64"
      ]
     },
     "execution_count": 12,
     "metadata": {},
     "output_type": "execute_result"
    }
   ],
   "source": [
    "df_co['subject_sex'].value_counts()"
   ]
  },
  {
   "cell_type": "markdown",
   "id": "23879947",
   "metadata": {},
   "source": [
    "White people are most likely to be stopped. According to the US Census Bureau the population of Colorado is 67.7% white non hispanic."
   ]
  },
  {
   "cell_type": "code",
   "execution_count": 13,
   "id": "978c08c4",
   "metadata": {},
   "outputs": [
    {
     "data": {
      "text/plain": [
       "white                     2155261\n",
       "hispanic                   383733\n",
       "black                       88836\n",
       "asian/pacific islander      44670\n",
       "other                       21380\n",
       "unknown                     17333\n",
       "Name: subject_race, dtype: int64"
      ]
     },
     "execution_count": 13,
     "metadata": {},
     "output_type": "execute_result"
    }
   ],
   "source": [
    "df_co['subject_race'].value_counts()"
   ]
  },
  {
   "cell_type": "markdown",
   "id": "b2053e82",
   "metadata": {},
   "source": [
    "# Analysis\n",
    "In order to assist in this analysis, we'll define a helper function to aggregate a few important statistics from our dataset. that will allow us to see any demographic based disparities in the outcome of traffic stops. \n",
    "\n",
    "- citations_per_warning - The ratio of citations to warnings. A higher number signifies a greater likelihood of being ticketed instead of getting off with a warning.\n",
    "\n",
    "- arrest_rate - The percentage of stops that end in an arrest."
   ]
  },
  {
   "cell_type": "code",
   "execution_count": 14,
   "id": "77166ec6",
   "metadata": {},
   "outputs": [],
   "source": [
    "def compute_outcome_stats(df):\n",
    "    \"\"\"Compute statistics regarding the relative quanties of arrests, warnings, and citations\"\"\"\n",
    "    n_total = len(df)\n",
    "    n_warnings = len(df[df['outcome'] == 'warning'])\n",
    "    n_citations = len(df[df['outcome'] == 'citation'])\n",
    "    n_arrests = len(df[df['outcome'] == 'arrest'])\n",
    "    citations_per_warning = n_citations / n_warnings\n",
    "    arrest_rate = n_arrests / n_total\n",
    "    \n",
    "    return(pd.Series(data = { \n",
    "        'n_total': n_total,\n",
    "        'n_warnings': n_warnings,\n",
    "        'n_citations': n_citations,\n",
    "        'n_arrests': n_arrests,\n",
    "        'citations_per_warning': citations_per_warning,\n",
    "        'arrest_rate': arrest_rate\n",
    "    }))"
   ]
  },
  {
   "cell_type": "code",
   "execution_count": 15,
   "id": "dc77a6d7",
   "metadata": {},
   "outputs": [
    {
     "data": {
      "text/plain": [
       "n_total                  3.112853e+06\n",
       "n_warnings               7.989540e+05\n",
       "n_citations              4.911370e+05\n",
       "n_arrests                6.368000e+03\n",
       "citations_per_warning    6.147250e-01\n",
       "arrest_rate              2.045712e-03\n",
       "dtype: float64"
      ]
     },
     "execution_count": 15,
     "metadata": {},
     "output_type": "execute_result"
    }
   ],
   "source": [
    "compute_outcome_stats(df_co)"
   ]
  },
  {
   "cell_type": "code",
   "execution_count": 16,
   "id": "0d2c2987",
   "metadata": {},
   "outputs": [
    {
     "data": {
      "text/html": [
       "<div>\n",
       "<style scoped>\n",
       "    .dataframe tbody tr th:only-of-type {\n",
       "        vertical-align: middle;\n",
       "    }\n",
       "\n",
       "    .dataframe tbody tr th {\n",
       "        vertical-align: top;\n",
       "    }\n",
       "\n",
       "    .dataframe thead th {\n",
       "        text-align: right;\n",
       "    }\n",
       "</style>\n",
       "<table border=\"1\" class=\"dataframe\">\n",
       "  <thead>\n",
       "    <tr style=\"text-align: right;\">\n",
       "      <th></th>\n",
       "      <th>n_total</th>\n",
       "      <th>n_warnings</th>\n",
       "      <th>n_citations</th>\n",
       "      <th>n_arrests</th>\n",
       "      <th>citations_per_warning</th>\n",
       "      <th>arrest_rate</th>\n",
       "    </tr>\n",
       "    <tr>\n",
       "      <th>subject_sex</th>\n",
       "      <th></th>\n",
       "      <th></th>\n",
       "      <th></th>\n",
       "      <th></th>\n",
       "      <th></th>\n",
       "      <th></th>\n",
       "    </tr>\n",
       "  </thead>\n",
       "  <tbody>\n",
       "    <tr>\n",
       "      <th>female</th>\n",
       "      <td>688887.0</td>\n",
       "      <td>256601.0</td>\n",
       "      <td>156573.0</td>\n",
       "      <td>1386.0</td>\n",
       "      <td>0.610181</td>\n",
       "      <td>0.002012</td>\n",
       "    </tr>\n",
       "    <tr>\n",
       "      <th>male</th>\n",
       "      <td>1527440.0</td>\n",
       "      <td>538666.0</td>\n",
       "      <td>334374.0</td>\n",
       "      <td>4819.0</td>\n",
       "      <td>0.620745</td>\n",
       "      <td>0.003155</td>\n",
       "    </tr>\n",
       "  </tbody>\n",
       "</table>\n",
       "</div>"
      ],
      "text/plain": [
       "               n_total  n_warnings  n_citations  n_arrests  \\\n",
       "subject_sex                                                  \n",
       "female        688887.0    256601.0     156573.0     1386.0   \n",
       "male         1527440.0    538666.0     334374.0     4819.0   \n",
       "\n",
       "             citations_per_warning  arrest_rate  \n",
       "subject_sex                                      \n",
       "female                    0.610181     0.002012  \n",
       "male                      0.620745     0.003155  "
      ]
     },
     "execution_count": 16,
     "metadata": {},
     "output_type": "execute_result"
    }
   ],
   "source": [
    "df_co.groupby('subject_sex').apply(compute_outcome_stats)"
   ]
  },
  {
   "cell_type": "markdown",
   "id": "93f6275b",
   "metadata": {},
   "source": [
    "We can see by the summary statistics that men are pulled over at twice the rate of women and arrested at four times the rate."
   ]
  },
  {
   "cell_type": "code",
   "execution_count": 17,
   "id": "c753ac3f",
   "metadata": {},
   "outputs": [
    {
     "data": {
      "text/html": [
       "<div>\n",
       "<style scoped>\n",
       "    .dataframe tbody tr th:only-of-type {\n",
       "        vertical-align: middle;\n",
       "    }\n",
       "\n",
       "    .dataframe tbody tr th {\n",
       "        vertical-align: top;\n",
       "    }\n",
       "\n",
       "    .dataframe thead th {\n",
       "        text-align: right;\n",
       "    }\n",
       "</style>\n",
       "<table border=\"1\" class=\"dataframe\">\n",
       "  <thead>\n",
       "    <tr style=\"text-align: right;\">\n",
       "      <th></th>\n",
       "      <th>n_total</th>\n",
       "      <th>n_warnings</th>\n",
       "      <th>n_citations</th>\n",
       "      <th>n_arrests</th>\n",
       "      <th>citations_per_warning</th>\n",
       "      <th>arrest_rate</th>\n",
       "    </tr>\n",
       "    <tr>\n",
       "      <th>subject_race</th>\n",
       "      <th></th>\n",
       "      <th></th>\n",
       "      <th></th>\n",
       "      <th></th>\n",
       "      <th></th>\n",
       "      <th></th>\n",
       "    </tr>\n",
       "  </thead>\n",
       "  <tbody>\n",
       "    <tr>\n",
       "      <th>asian/pacific islander</th>\n",
       "      <td>44670.0</td>\n",
       "      <td>11618.0</td>\n",
       "      <td>7842.0</td>\n",
       "      <td>69.0</td>\n",
       "      <td>0.674987</td>\n",
       "      <td>0.001545</td>\n",
       "    </tr>\n",
       "    <tr>\n",
       "      <th>black</th>\n",
       "      <td>88836.0</td>\n",
       "      <td>23838.0</td>\n",
       "      <td>16879.0</td>\n",
       "      <td>340.0</td>\n",
       "      <td>0.708071</td>\n",
       "      <td>0.003827</td>\n",
       "    </tr>\n",
       "    <tr>\n",
       "      <th>hispanic</th>\n",
       "      <td>383733.0</td>\n",
       "      <td>101988.0</td>\n",
       "      <td>72603.0</td>\n",
       "      <td>2373.0</td>\n",
       "      <td>0.711878</td>\n",
       "      <td>0.006184</td>\n",
       "    </tr>\n",
       "    <tr>\n",
       "      <th>other</th>\n",
       "      <td>21380.0</td>\n",
       "      <td>4816.0</td>\n",
       "      <td>2167.0</td>\n",
       "      <td>116.0</td>\n",
       "      <td>0.449958</td>\n",
       "      <td>0.005426</td>\n",
       "    </tr>\n",
       "    <tr>\n",
       "      <th>unknown</th>\n",
       "      <td>17333.0</td>\n",
       "      <td>8933.0</td>\n",
       "      <td>5354.0</td>\n",
       "      <td>56.0</td>\n",
       "      <td>0.599351</td>\n",
       "      <td>0.003231</td>\n",
       "    </tr>\n",
       "    <tr>\n",
       "      <th>white</th>\n",
       "      <td>2155261.0</td>\n",
       "      <td>644455.0</td>\n",
       "      <td>386252.0</td>\n",
       "      <td>3261.0</td>\n",
       "      <td>0.599347</td>\n",
       "      <td>0.001513</td>\n",
       "    </tr>\n",
       "  </tbody>\n",
       "</table>\n",
       "</div>"
      ],
      "text/plain": [
       "                          n_total  n_warnings  n_citations  n_arrests  \\\n",
       "subject_race                                                            \n",
       "asian/pacific islander    44670.0     11618.0       7842.0       69.0   \n",
       "black                     88836.0     23838.0      16879.0      340.0   \n",
       "hispanic                 383733.0    101988.0      72603.0     2373.0   \n",
       "other                     21380.0      4816.0       2167.0      116.0   \n",
       "unknown                   17333.0      8933.0       5354.0       56.0   \n",
       "white                   2155261.0    644455.0     386252.0     3261.0   \n",
       "\n",
       "                        citations_per_warning  arrest_rate  \n",
       "subject_race                                                \n",
       "asian/pacific islander               0.674987     0.001545  \n",
       "black                                0.708071     0.003827  \n",
       "hispanic                             0.711878     0.006184  \n",
       "other                                0.449958     0.005426  \n",
       "unknown                              0.599351     0.003231  \n",
       "white                                0.599347     0.001513  "
      ]
     },
     "execution_count": 17,
     "metadata": {},
     "output_type": "execute_result"
    }
   ],
   "source": [
    "df_co.groupby('subject_race').apply(compute_outcome_stats)"
   ]
  },
  {
   "cell_type": "markdown",
   "id": "c33924ba",
   "metadata": {},
   "source": [
    "We can see by the outcome statistcis that Black and Hispanic Coloradans are arrested at twice and quadruple the rate of Asian/Pacific Isander and White Coloradans, respectively. The rate of citations per warning are also higher for Black and Hispanic Coloradans compared Asian/Pacific Islander and white Coloradans though not to the same degree of disparity found in the areest rate."
   ]
  },
  {
   "cell_type": "markdown",
   "id": "42f27077",
   "metadata": {},
   "source": [
    "# Data Visualization"
   ]
  },
  {
   "cell_type": "markdown",
   "id": "2cb8f2b0",
   "metadata": {},
   "source": [
    "### Rubric: Visualization (8 points, 2 points each)\n",
    " - Data visualization activity (box plot, bar plot, violin plot, and pairplot to see relationships \n",
    "and distribution, etc.).\n",
    " - Describe anything you find in the data after visualization.\n",
    " - What data visualization helped you understand about data distribution.\n",
    " - What you did about possible outlier as per data distribution visualization. "
   ]
  },
  {
   "cell_type": "code",
   "execution_count": 18,
   "id": "54f8ca86",
   "metadata": {},
   "outputs": [
    {
     "data": {
      "text/plain": [
       "<AxesSubplot:title={'center':'Arrest Rate By Race'}, ylabel='subject_race'>"
      ]
     },
     "execution_count": 18,
     "metadata": {},
     "output_type": "execute_result"
    },
    {
     "data": {
      "image/png": "[encoded data removed]",
      "text/plain": [
       "<Figure size 1152x576 with 2 Axes>"
      ]
     },
     "metadata": {
      "needs_background": "light"
     },
     "output_type": "display_data"
    }
   ],
   "source": [
    "race_agg = df_co.groupby(['subject_race']).apply(compute_outcome_stats)\n",
    "fig, axes = plt.subplots(nrows=2, ncols=1, figsize=figsize)\n",
    "race_agg['citations_per_warning'].plot.barh(ax=axes[0], figsize=figsize, title=\"Citation Rate By Race\")\n",
    "race_agg['arrest_rate'].plot.barh(ax=axes[1], figsize=figsize, title='Arrest Rate By Race')\n",
    "\n",
    "# fig.savefig('images/citations_and_arrests_by_race.png', bbox_inches='tight')"
   ]
  },
  {
   "cell_type": "markdown",
   "id": "f96bbd69",
   "metadata": {},
   "source": [
    "I used a horitzonal bar chart to visualize that data. Horizontal bar graphs represent the data horizontally. It is a graph whose bars are drawn horizontally. The data categories are shown on the vertical axis and the data values are shown on the horizontal axis. The degree of disparity among white and unidentified subjects and those that identify as Black and Hispanic are pronouced in this visualization. You can really see that Hispanic people being pulled over in Colorado are four times as likely to be arrested as a result of that law enforcement conact as compared to White person being pulled over."
   ]
  },
  {
   "cell_type": "code",
   "execution_count": 19,
   "id": "589aad4d",
   "metadata": {},
   "outputs": [
    {
     "data": {
      "image/png": "[encoded data removed]",
      "text/plain": [
       "<Figure size 1440x720 with 2 Axes>"
      ]
     },
     "metadata": {
      "needs_background": "light"
     },
     "output_type": "display_data"
    }
   ],
   "source": [
    "race_heatmap = df_co.groupby(['subject_race']).apply(compute_outcome_stats)\n",
    "corr = race_heatmap.corr()\n",
    "f, ax = plt.subplots(figsize=(20, 10))\n",
    "sns.heatmap(corr)\n",
    "plt.show()"
   ]
  },
  {
   "cell_type": "markdown",
   "id": "56e9e4a1",
   "metadata": {},
   "source": [
    "Citations_per_warning and arrest_rate positive correlate to subject_race for some racial categories a not others. Correlation measures linear relationships and is defined for numeric attributes. There need not be a linear relationship between variables(Arrested vs any other attributes). For categorical variable, we need to use a different measure of association.\n",
    "Cramér's V, measure of association between two nominal variables. It is based on a nominal variation of Pearson’s Chi-Square Test.\n",
    "\n",
    "I like the way the heatmap looks but it does not show with same clarity the magnitude of citation_per_warning and arrest_rate racial disparites as the horizontal bar chart does. Given the gravity of the problem clarity and transparency seem particulary important. Elevated arrest_rates and citation_per_warning rates mean increased costs, disrupted lives, time off work, and away from families. It can also mean a return to institutional settings for those previously involved with the judicial system or deportation to people pulled over while not in the country with legal status. "
   ]
  }
 ],
 "metadata": {
  "kernelspec": {
   "display_name": "Python 3",
   "language": "python",
   "name": "python3"
  },
  "language_info": {
   "codemirror_mode": {
    "name": "ipython",
    "version": 3
   },
   "file_extension": ".py",
   "mimetype": "text/x-python",
   "name": "python",
   "nbconvert_exporter": "python",
   "pygments_lexer": "ipython3",
   "version": "3.8.5"
  }
 },
 "nbformat": 4,
 "nbformat_minor": 5
}
